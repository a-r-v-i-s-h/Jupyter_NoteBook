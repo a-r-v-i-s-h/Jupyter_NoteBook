{
  "metadata": {
    "language_info": {
      "codemirror_mode": {
        "name": "python",
        "version": 3
      },
      "file_extension": ".py",
      "mimetype": "text/x-python",
      "name": "python",
      "nbconvert_exporter": "python",
      "pygments_lexer": "ipython3",
      "version": "3.8"
    },
    "kernelspec": {
      "name": "python",
      "display_name": "Pyolite",
      "language": "python"
    }
  },
  "nbformat_minor": 4,
  "nbformat": 4,
  "cells": [
    {
      "cell_type": "markdown",
      "source": "<h1>My Jupyter Notebook on IBM Watson Studio</h1>",
      "metadata": {}
    },
    {
      "cell_type": "markdown",
      "source": "<p><b>Arvish Pandey</b></p>\n<p>Occupation: Software Developer + Data Scientist</p>",
      "metadata": {}
    },
    {
      "cell_type": "markdown",
      "source": "<i>I am interested in Data Science because this is field I had no idea about being an enthusiast about computer science since a very small agae. After completing this professional certifications I'll strive to complete at least one internship as a Data Analyst or something similiar!</i>",
      "metadata": {}
    },
    {
      "cell_type": "markdown",
      "source": "<h3>Simple Arithmatic Expression Calculation</h3>",
      "metadata": {}
    },
    {
      "cell_type": "code",
      "source": "( 5 * 6 ) + 2 - 1",
      "metadata": {
        "trusted": true
      },
      "execution_count": 1,
      "outputs": [
        {
          "execution_count": 1,
          "output_type": "execute_result",
          "data": {
            "text/plain": "31"
          },
          "metadata": {}
        }
      ]
    },
    {
      "cell_type": "markdown",
      "source": "<p>Hyperlink to <a href=\"https://www.google.com\">Google</a></p>\n<p>This is a table</p>\n\n| header | header |\n| ------ | ------ |\n| cell | cell |\n\n<p><ul>\n    <li>This</li>\n    <li>is</li>\n    <li>a</li>\n    <li>Bullet List</li>\n    </ul>\n</p>",
      "metadata": {}
    }
  ]
}